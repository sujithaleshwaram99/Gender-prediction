{
  "nbformat": 4,
  "nbformat_minor": 0,
  "metadata": {
    "kernelspec": {
      "name": "python3",
      "display_name": "Python 3"
    },
    "kernel_info": {
      "name": "python3-azureml"
    },
    "nteract": {
      "version": "nteract-front-end@1.0.0"
    },
    "microsoft": {
      "host": {
        "AzureML": {
          "notebookHasBeenCompleted": true
        }
      }
    },
    "colab": {
      "name": "gender_predict.ipynb",
      "provenance": [],
      "collapsed_sections": []
    },
    "language_info": {
      "name": "python"
    },
    "accelerator": "GPU"
  },
  "cells": [
    {
      "cell_type": "markdown",
      "metadata": {
        "id": "Pr8pjTSkmaHN"
      },
      "source": [
        "# Gender prediction based on first name using character sequences"
      ]
    },
    {
      "cell_type": "code",
      "metadata": {
        "gather": {
          "logged": 1634813529730
        },
        "id": "ew4KtnLflHok"
      },
      "source": [
        "import pandas as pd\n",
        "import numpy as np\n",
        "import matplotlib.pyplot as plt\n",
        "import os\n",
        "\n",
        "from sklearn.preprocessing import OneHotEncoder\n",
        "from tensorflow.keras.preprocessing import sequence\n",
        "from tensorflow.keras.models import Sequential\n",
        "from tensorflow.keras.layers import Dense, Embedding, Dense, Activation, Dropout, LSTM, Bidirectional\n",
        "from tensorflow.keras.callbacks import EarlyStopping, ModelCheckpoint, ReduceLROnPlateau\n",
        "from sklearn.model_selection import train_test_split\n",
        "from tensorflow.keras.regularizers import l2\n",
        "from tensorflow.keras.utils import plot_model\n",
        "from sklearn.model_selection import train_test_split"
      ],
      "execution_count": 1,
      "outputs": []
    },
    {
      "cell_type": "markdown",
      "metadata": {
        "id": "xlxv4Q2KmtMH"
      },
      "source": [
        "The dataset consist of french names.Most of the french names has tilde characters in their names.Below Function removes tilde characters from names and replaces them with normal characters"
      ]
    },
    {
      "cell_type": "code",
      "metadata": {
        "jupyter": {
          "source_hidden": false,
          "outputs_hidden": false
        },
        "nteract": {
          "transient": {
            "deleting": false
          }
        },
        "gather": {
          "logged": 1634813529830
        },
        "id": "QEjUg_OolHoo"
      },
      "source": [
        "def rmv_acc(string_1):\n",
        "\n",
        "    string_1 = string_1.replace(\"ç\", \"c\")\n",
        "    string_1 = string_1.replace(\"Ç\", \"C\")\n",
        "    string_1 = string_1.replace(\"à\", \"a\")\n",
        "    string_1 = string_1.replace(\"Ä\", \"A\")\n",
        "    string_1 = string_1.replace(\"ä\", \"a\")\n",
        "    string_1 = string_1.replace(\"À\", \"A\")\n",
        "    string_1 = string_1.replace(\"Â\", \"A\")\n",
        "    string_1 = string_1.replace(\"â\", \"a\")\n",
        "    string_1 = string_1.replace(\"é\", \"e\")\n",
        "    string_1 = string_1.replace(\"è\", \"e\")\n",
        "    string_1 = string_1.replace(\"É\", \"E\")\n",
        "    string_1 = string_1.replace(\"È\", \"E\")\n",
        "    string_1 = string_1.replace(\"Ë\", \"E\")\n",
        "    string_1 = string_1.replace(\"ë\", \"e\")\n",
        "    string_1 = string_1.replace(\"Ê\", \"E\")\n",
        "    string_1 = string_1.replace(\"ê\", \"e\")\n",
        "    string_1 = string_1.replace(\"û\", \"u\")\n",
        "    string_1 = string_1.replace(\"Û\", \"U\")\n",
        "    string_1 = string_1.replace(\"ü\", \"u\")\n",
        "    string_1 = string_1.replace(\"Ü\", \"U\")\n",
        "    string_1 = string_1.replace(\"ï\", \"i\")\n",
        "    string_1 = string_1.replace(\"Ï\", \"I\")\n",
        "    string_1 = string_1.replace(\"î\", \"i\")\n",
        "    string_1 = string_1.replace(\"Î\", \"I\")\n",
        "    string_1 = string_1.replace(\"Ô\", \"O\")\n",
        "    string_1 = string_1.replace(\"ô\", \"o\")\n",
        "    string_1 = string_1.replace(\"Ö\", \"O\")\n",
        "    string_1 = string_1.replace(\"ö\", \"o\")\n",
        "    string_1 = string_1.replace(\"Ù\", \"U\")\n",
        "    string_1 = string_1.replace(\"ù\", \"u\")\n",
        "    string_1 = string_1.replace(\"ÿ\", \"y\")\n",
        "    string_1 = string_1.replace(\"æ\", \"ae\")\n",
        "    string_1 = string_1.replace(\"_\", \" \")\n",
        "\n",
        "    return string_1"
      ],
      "execution_count": 2,
      "outputs": []
    },
    {
      "cell_type": "code",
      "metadata": {
        "jupyter": {
          "source_hidden": false,
          "outputs_hidden": false
        },
        "nteract": {
          "transient": {
            "deleting": false
          }
        },
        "gather": {
          "logged": 1634813531351
        },
        "colab": {
          "base_uri": "https://localhost:8080/",
          "height": 204
        },
        "id": "aAqf6ayXlHop",
        "outputId": "f266ccf0-dae4-4f5a-8e7a-d5e8b8258e00"
      },
      "source": [
        "df = pd.read_csv('nat2020.csv', sep=\";\")\n",
        "df = df[['sexe', 'preusuel']].drop_duplicates()\n",
        "df.columns = ['gender', 'name']\n",
        "\n",
        "def sexe(x):\n",
        "    if x == 1:\n",
        "        return \"M\"\n",
        "    else:\n",
        "        return \"F\"\n",
        "    \n",
        "df['gender'] = df['gender'].apply(lambda x: sexe(x)) \n",
        "columnsTitles=[\"name\",\"gender\"]\n",
        "df=df.reindex(columns=columnsTitles)\n",
        "\n",
        "df2 = pd.read_csv('name_gender.csv')[['name', 'gender']]\n",
        "\n",
        "df = pd.concat([df, df2])\n",
        "df['name'] = df['name'].apply(lambda x: str(x).lower())\n",
        "df['name'] = df['name'].apply(lambda x: rmv_acc(x))\n",
        "df = df[[len(e)>1 for e in df.name]]\n",
        "df = df.drop_duplicates()\n",
        "\n",
        "names = df['name'].apply(lambda x: x.lower())\n",
        "gender = df['gender']\n",
        "\n",
        "df.head()"
      ],
      "execution_count": 3,
      "outputs": [
        {
          "output_type": "execute_result",
          "data": {
            "text/html": [
              "<div>\n",
              "<style scoped>\n",
              "    .dataframe tbody tr th:only-of-type {\n",
              "        vertical-align: middle;\n",
              "    }\n",
              "\n",
              "    .dataframe tbody tr th {\n",
              "        vertical-align: top;\n",
              "    }\n",
              "\n",
              "    .dataframe thead th {\n",
              "        text-align: right;\n",
              "    }\n",
              "</style>\n",
              "<table border=\"1\" class=\"dataframe\">\n",
              "  <thead>\n",
              "    <tr style=\"text-align: right;\">\n",
              "      <th></th>\n",
              "      <th>name</th>\n",
              "      <th>gender</th>\n",
              "    </tr>\n",
              "  </thead>\n",
              "  <tbody>\n",
              "    <tr>\n",
              "      <th>0</th>\n",
              "      <td>prenoms rares</td>\n",
              "      <td>M</td>\n",
              "    </tr>\n",
              "    <tr>\n",
              "      <th>124</th>\n",
              "      <td>aadam</td>\n",
              "      <td>M</td>\n",
              "    </tr>\n",
              "    <tr>\n",
              "      <th>131</th>\n",
              "      <td>aadel</td>\n",
              "      <td>M</td>\n",
              "    </tr>\n",
              "    <tr>\n",
              "      <th>139</th>\n",
              "      <td>aadil</td>\n",
              "      <td>M</td>\n",
              "    </tr>\n",
              "    <tr>\n",
              "      <th>165</th>\n",
              "      <td>aahil</td>\n",
              "      <td>M</td>\n",
              "    </tr>\n",
              "  </tbody>\n",
              "</table>\n",
              "</div>"
            ],
            "text/plain": [
              "               name gender\n",
              "0     prenoms rares      M\n",
              "124           aadam      M\n",
              "131           aadel      M\n",
              "139           aadil      M\n",
              "165           aahil      M"
            ]
          },
          "metadata": {},
          "execution_count": 3
        }
      ]
    },
    {
      "cell_type": "markdown",
      "metadata": {
        "id": "nCPf5dTnnftP"
      },
      "source": [
        "checking the length of name's characters."
      ]
    },
    {
      "cell_type": "code",
      "metadata": {
        "jupyter": {
          "source_hidden": false,
          "outputs_hidden": false
        },
        "nteract": {
          "transient": {
            "deleting": false
          }
        },
        "gather": {
          "logged": 1634813531667
        },
        "colab": {
          "base_uri": "https://localhost:8080/",
          "height": 499
        },
        "id": "7rUo_RzglHor",
        "outputId": "a52ad16e-7603-47e5-f948-9fe96f7b96f3"
      },
      "source": [
        "plt.figure(figsize=(12,8))\n",
        "plt.hist([len(a) for a in names], bins=36)\n",
        "plt.title(\"Length of the names\")\n",
        "plt.show()"
      ],
      "execution_count": 4,
      "outputs": [
        {
          "output_type": "display_data",
          "data": {
            "image/png": "[encoded data removed]",
            "text/plain": [
              "<Figure size 864x576 with 1 Axes>"
            ]
          },
          "metadata": {
            "needs_background": "light"
          }
        }
      ]
    },
    {
      "cell_type": "code",
      "metadata": {
        "jupyter": {
          "source_hidden": false,
          "outputs_hidden": false
        },
        "nteract": {
          "transient": {
            "deleting": false
          }
        },
        "gather": {
          "logged": 1634813531779
        },
        "id": "OjOdeE3RlHos"
      },
      "source": [
        "maxlen = 20\n",
        "labels = 2"
      ],
      "execution_count": 5,
      "outputs": []
    },
    {
      "cell_type": "code",
      "metadata": {
        "jupyter": {
          "source_hidden": false,
          "outputs_hidden": false
        },
        "nteract": {
          "transient": {
            "deleting": false
          }
        },
        "gather": {
          "logged": 1634813531880
        },
        "colab": {
          "base_uri": "https://localhost:8080/"
        },
        "id": "pfDeX9PDlHos",
        "outputId": "d28495aa-01fd-4ba5-ad49-baced3ea153f"
      },
      "source": [
        "print(\"Male : \" + str(sum(gender=='M')))\n",
        "print(\"Female : \" + str(sum(gender=='F')))"
      ],
      "execution_count": 6,
      "outputs": [
        {
          "output_type": "stream",
          "name": "stdout",
          "text": [
            "Male : 44999\n",
            "Female : 70528\n"
          ]
        }
      ]
    },
    {
      "cell_type": "code",
      "metadata": {
        "jupyter": {
          "source_hidden": false,
          "outputs_hidden": false
        },
        "nteract": {
          "transient": {
            "deleting": false
          }
        },
        "gather": {
          "logged": 1634813531968
        },
        "colab": {
          "base_uri": "https://localhost:8080/"
        },
        "id": "zswonZyTlHou",
        "outputId": "87e234df-c235-4f50-ee8e-95e6ef78138e"
      },
      "source": [
        "vocab = set(' '.join([str(i) for i in names]))\n",
        "vocab.add('END')\n",
        "len_vocab = len(vocab)\n",
        "print(len_vocab)"
      ],
      "execution_count": 7,
      "outputs": [
        {
          "output_type": "stream",
          "name": "stdout",
          "text": [
            "30\n"
          ]
        }
      ]
    },
    {
      "cell_type": "code",
      "metadata": {
        "jupyter": {
          "source_hidden": false,
          "outputs_hidden": false
        },
        "nteract": {
          "transient": {
            "deleting": false
          }
        },
        "gather": {
          "logged": 1634813532073
        },
        "colab": {
          "base_uri": "https://localhost:8080/"
        },
        "id": "_8_RvCUBlHov",
        "outputId": "6d35667d-81f3-47bc-8caf-a38ec2df9a78"
      },
      "source": [
        "char_index = dict((c, i) for i, c in enumerate(vocab))\n",
        "char_index"
      ],
      "execution_count": 8,
      "outputs": [
        {
          "output_type": "execute_result",
          "data": {
            "text/plain": [
              "{' ': 22,\n",
              " \"'\": 21,\n",
              " '-': 2,\n",
              " 'END': 3,\n",
              " 'a': 13,\n",
              " 'b': 4,\n",
              " 'c': 26,\n",
              " 'd': 0,\n",
              " 'e': 14,\n",
              " 'f': 6,\n",
              " 'g': 9,\n",
              " 'h': 11,\n",
              " 'i': 8,\n",
              " 'j': 17,\n",
              " 'k': 27,\n",
              " 'l': 12,\n",
              " 'm': 7,\n",
              " 'n': 19,\n",
              " 'o': 25,\n",
              " 'p': 29,\n",
              " 'q': 20,\n",
              " 'r': 5,\n",
              " 's': 16,\n",
              " 't': 10,\n",
              " 'u': 18,\n",
              " 'v': 15,\n",
              " 'w': 23,\n",
              " 'x': 28,\n",
              " 'y': 24,\n",
              " 'z': 1}"
            ]
          },
          "metadata": {},
          "execution_count": 8
        }
      ]
    },
    {
      "cell_type": "markdown",
      "metadata": {
        "id": "8c5T-VeIny7P"
      },
      "source": [
        "Preprocessing the dataset for model training\n"
      ]
    },
    {
      "cell_type": "code",
      "metadata": {
        "jupyter": {
          "source_hidden": false,
          "outputs_hidden": false
        },
        "nteract": {
          "transient": {
            "deleting": false
          }
        },
        "gather": {
          "logged": 1634813547995
        },
        "id": "MLtfifDwlHow"
      },
      "source": [
        "X = []\n",
        "y = []\n",
        "\n",
        "# Builds an empty line with a 1 at the index of character\n",
        "def set_flag(i):\n",
        "    tmp = np.zeros(len_vocab);\n",
        "    tmp[i] = 1\n",
        "    return list(tmp)\n",
        "\n",
        "# Truncate names and create the matrix\n",
        "def prepare_X(X):\n",
        "    new_list = []\n",
        "    trunc_train_name = [str(i)[0:maxlen] for i in X]\n",
        "\n",
        "    for i in trunc_train_name:\n",
        "        tmp = [set_flag(char_index[j]) for j in str(i)]\n",
        "        for k in range(0,maxlen - len(str(i))):\n",
        "            tmp.append(set_flag(char_index[\"END\"]))\n",
        "        new_list.append(tmp)\n",
        "\n",
        "    return new_list\n",
        "\n",
        "\n",
        "X = prepare_X(names.values)\n",
        "\n",
        "# Label Encoding of y\n",
        "def prepare_y(y):\n",
        "    new_list = []\n",
        "    for i in y:\n",
        "        if i == 'M':\n",
        "            new_list.append([1,0])\n",
        "        else:\n",
        "            new_list.append([0,1])\n",
        "\n",
        "    return new_list\n",
        "\n",
        "y = prepare_y(gender)"
      ],
      "execution_count": 9,
      "outputs": []
    },
    {
      "cell_type": "code",
      "metadata": {
        "jupyter": {
          "source_hidden": false,
          "outputs_hidden": false
        },
        "nteract": {
          "transient": {
            "deleting": false
          }
        },
        "gather": {
          "logged": 1634813562829
        },
        "id": "NcCPrtEilHox"
      },
      "source": [
        "X_train, X_test, y_train, y_test = train_test_split(X, y)\n"
      ],
      "execution_count": 10,
      "outputs": []
    },
    {
      "cell_type": "markdown",
      "metadata": {
        "id": "4yz2YxVtoCIr"
      },
      "source": [
        "Defining the deep model using lstm to find the sequences of character's names"
      ]
    },
    {
      "cell_type": "code",
      "metadata": {
        "jupyter": {
          "source_hidden": false,
          "outputs_hidden": false
        },
        "nteract": {
          "transient": {
            "deleting": false
          }
        },
        "gather": {
          "logged": 1634813565023
        },
        "id": "CtbWOb2BlHoy"
      },
      "source": [
        "model = Sequential()\n",
        "model.add(Bidirectional(LSTM(512, return_sequences=True), backward_layer=LSTM(512, return_sequences=True, go_backwards=True), input_shape=(maxlen,len_vocab)))\n",
        "model.add(Dropout(0.2))\n",
        "model.add(Bidirectional(LSTM(512)))\n",
        "model.add(Dropout(0.2))\n",
        "model.add(Dense(2, activity_regularizer=l2(0.002)))\n",
        "model.add(Activation('softmax'))\n",
        "model.compile(loss='categorical_crossentropy', optimizer='adam',metrics=['accuracy'])"
      ],
      "execution_count": 11,
      "outputs": []
    },
    {
      "cell_type": "code",
      "metadata": {
        "jupyter": {
          "source_hidden": false,
          "outputs_hidden": false
        },
        "nteract": {
          "transient": {
            "deleting": false
          }
        },
        "gather": {
          "logged": 1634813566686
        },
        "colab": {
          "base_uri": "https://localhost:8080/",
          "height": 754
        },
        "id": "J2jbBHqKlHoy",
        "outputId": "a9cad5ff-281a-4979-bff9-83bde955ed3b"
      },
      "source": [
        "plot_model(model, to_file='model_2.png', show_shapes=True, expand_nested=True)"
      ],
      "execution_count": 12,
      "outputs": [
        {
          "output_type": "execute_result",
          "data": {
            "image/png": "[encoded data removed]",
            "text/plain": [
              "<IPython.core.display.Image object>"
            ]
          },
          "metadata": {},
          "execution_count": 12
        }
      ]
    },
    {
      "cell_type": "code",
      "metadata": {
        "jupyter": {
          "source_hidden": false,
          "outputs_hidden": false
        },
        "nteract": {
          "transient": {
            "deleting": false
          }
        },
        "gather": {
          "logged": 1634813566900
        },
        "id": "QtPHDjPylHoz"
      },
      "source": [
        "callback = EarlyStopping(monitor='val_loss', patience=5)\n",
        "mc = ModelCheckpoint('best_model_9.h5', monitor='val_loss', mode='min', verbose=1)\n",
        "reduce_lr_acc = ReduceLROnPlateau(monitor='val_accuracy', factor=0.1, patience=2, verbose=1, min_delta=1e-4, mode='max')"
      ],
      "execution_count": 13,
      "outputs": []
    },
    {
      "cell_type": "code",
      "metadata": {
        "jupyter": {
          "source_hidden": false,
          "outputs_hidden": false
        },
        "nteract": {
          "transient": {
            "deleting": false
          }
        },
        "gather": {
          "logged": 1633360915614
        },
        "colab": {
          "base_uri": "https://localhost:8080/"
        },
        "id": "fGeVHCQ3lHoz",
        "outputId": "ab7d1329-5085-42d0-b7d3-adec6b9320f8"
      },
      "source": [
        "batch_size = 256\n",
        "history = model.fit(X_train, y_train, batch_size=batch_size, epochs=35, verbose=1, validation_data =(X_test, y_test), callbacks=[callback, mc, reduce_lr_acc])"
      ],
      "execution_count": 14,
      "outputs": [
        {
          "output_type": "stream",
          "name": "stdout",
          "text": [
            "Epoch 1/35\n",
            "339/339 [==============================] - ETA: 0s - loss: 0.4735 - accuracy: 0.7750\n",
            "Epoch 00001: saving model to best_model_9.h5\n",
            "339/339 [==============================] - 163s 448ms/step - loss: 0.4735 - accuracy: 0.7750 - val_loss: 0.4040 - val_accuracy: 0.8195 - lr: 0.0010\n",
            "Epoch 2/35\n",
            "339/339 [==============================] - ETA: 0s - loss: 0.3996 - accuracy: 0.8218\n",
            "Epoch 00002: saving model to best_model_9.h5\n",
            "339/339 [==============================] - 63s 186ms/step - loss: 0.3996 - accuracy: 0.8218 - val_loss: 0.3826 - val_accuracy: 0.8311 - lr: 0.0010\n",
            "Epoch 3/35\n",
            "339/339 [==============================] - ETA: 0s - loss: 0.3758 - accuracy: 0.8346\n",
            "Epoch 00003: saving model to best_model_9.h5\n",
            "339/339 [==============================] - 64s 188ms/step - loss: 0.3758 - accuracy: 0.8346 - val_loss: 0.3605 - val_accuracy: 0.8422 - lr: 0.0010\n",
            "Epoch 4/35\n",
            "339/339 [==============================] - ETA: 0s - loss: 0.3573 - accuracy: 0.8457\n",
            "Epoch 00004: saving model to best_model_9.h5\n",
            "339/339 [==============================] - 65s 191ms/step - loss: 0.3573 - accuracy: 0.8457 - val_loss: 0.3405 - val_accuracy: 0.8549 - lr: 0.0010\n",
            "Epoch 5/35\n",
            "339/339 [==============================] - ETA: 0s - loss: 0.3387 - accuracy: 0.8551\n",
            "Epoch 00005: saving model to best_model_9.h5\n",
            "339/339 [==============================] - 64s 190ms/step - loss: 0.3387 - accuracy: 0.8551 - val_loss: 0.3323 - val_accuracy: 0.8597 - lr: 0.0010\n",
            "Epoch 6/35\n",
            "339/339 [==============================] - ETA: 0s - loss: 0.3231 - accuracy: 0.8628\n",
            "Epoch 00006: saving model to best_model_9.h5\n",
            "339/339 [==============================] - 68s 202ms/step - loss: 0.3231 - accuracy: 0.8628 - val_loss: 0.3308 - val_accuracy: 0.8585 - lr: 0.0010\n",
            "Epoch 7/35\n",
            "339/339 [==============================] - ETA: 0s - loss: 0.3074 - accuracy: 0.8705\n",
            "Epoch 00007: saving model to best_model_9.h5\n",
            "339/339 [==============================] - 65s 190ms/step - loss: 0.3074 - accuracy: 0.8705 - val_loss: 0.3105 - val_accuracy: 0.8696 - lr: 0.0010\n",
            "Epoch 8/35\n",
            "339/339 [==============================] - ETA: 0s - loss: 0.2918 - accuracy: 0.8792\n",
            "Epoch 00008: saving model to best_model_9.h5\n",
            "339/339 [==============================] - 64s 190ms/step - loss: 0.2918 - accuracy: 0.8792 - val_loss: 0.3036 - val_accuracy: 0.8737 - lr: 0.0010\n",
            "Epoch 9/35\n",
            "339/339 [==============================] - ETA: 0s - loss: 0.2761 - accuracy: 0.8872\n",
            "Epoch 00009: saving model to best_model_9.h5\n",
            "339/339 [==============================] - 65s 191ms/step - loss: 0.2761 - accuracy: 0.8872 - val_loss: 0.2985 - val_accuracy: 0.8764 - lr: 0.0010\n",
            "Epoch 10/35\n",
            "339/339 [==============================] - ETA: 0s - loss: 0.2599 - accuracy: 0.8949\n",
            "Epoch 00010: saving model to best_model_9.h5\n",
            "339/339 [==============================] - 64s 190ms/step - loss: 0.2599 - accuracy: 0.8949 - val_loss: 0.2972 - val_accuracy: 0.8798 - lr: 0.0010\n",
            "Epoch 11/35\n",
            "339/339 [==============================] - ETA: 0s - loss: 0.2446 - accuracy: 0.9026\n",
            "Epoch 00011: saving model to best_model_9.h5\n",
            "339/339 [==============================] - 64s 190ms/step - loss: 0.2446 - accuracy: 0.9026 - val_loss: 0.2930 - val_accuracy: 0.8832 - lr: 0.0010\n",
            "Epoch 12/35\n",
            "339/339 [==============================] - ETA: 0s - loss: 0.2270 - accuracy: 0.9106\n",
            "Epoch 00012: saving model to best_model_9.h5\n",
            "339/339 [==============================] - 65s 191ms/step - loss: 0.2270 - accuracy: 0.9106 - val_loss: 0.2924 - val_accuracy: 0.8819 - lr: 0.0010\n",
            "Epoch 13/35\n",
            "339/339 [==============================] - ETA: 0s - loss: 0.2094 - accuracy: 0.9193\n",
            "Epoch 00013: saving model to best_model_9.h5\n",
            "\n",
            "Epoch 00013: ReduceLROnPlateau reducing learning rate to 0.00010000000474974513.\n",
            "339/339 [==============================] - 65s 191ms/step - loss: 0.2094 - accuracy: 0.9193 - val_loss: 0.2939 - val_accuracy: 0.8807 - lr: 0.0010\n",
            "Epoch 14/35\n",
            "339/339 [==============================] - ETA: 0s - loss: 0.1654 - accuracy: 0.9406\n",
            "Epoch 00014: saving model to best_model_9.h5\n",
            "339/339 [==============================] - 65s 190ms/step - loss: 0.1654 - accuracy: 0.9406 - val_loss: 0.2972 - val_accuracy: 0.8862 - lr: 1.0000e-04\n",
            "Epoch 15/35\n",
            "339/339 [==============================] - ETA: 0s - loss: 0.1510 - accuracy: 0.9474\n",
            "Epoch 00015: saving model to best_model_9.h5\n",
            "339/339 [==============================] - 65s 190ms/step - loss: 0.1510 - accuracy: 0.9474 - val_loss: 0.3045 - val_accuracy: 0.8867 - lr: 1.0000e-04\n",
            "Epoch 16/35\n",
            "339/339 [==============================] - ETA: 0s - loss: 0.1431 - accuracy: 0.9514\n",
            "Epoch 00016: saving model to best_model_9.h5\n",
            "339/339 [==============================] - 64s 190ms/step - loss: 0.1431 - accuracy: 0.9514 - val_loss: 0.3102 - val_accuracy: 0.8845 - lr: 1.0000e-04\n",
            "Epoch 17/35\n",
            "339/339 [==============================] - ETA: 0s - loss: 0.1376 - accuracy: 0.9540\n",
            "Epoch 00017: saving model to best_model_9.h5\n",
            "\n",
            "Epoch 00017: ReduceLROnPlateau reducing learning rate to 1.0000000474974514e-05.\n",
            "339/339 [==============================] - 65s 190ms/step - loss: 0.1376 - accuracy: 0.9540 - val_loss: 0.3161 - val_accuracy: 0.8852 - lr: 1.0000e-04\n"
          ]
        }
      ]
    },
    {
      "cell_type": "markdown",
      "metadata": {
        "id": "N61CIOy78GMv"
      },
      "source": [
        "Model's validation accuracy reached to its maximum so we saved this model and used this model to predict gender of the given names."
      ]
    },
    {
      "cell_type": "code",
      "metadata": {
        "jupyter": {
          "source_hidden": false,
          "outputs_hidden": false
        },
        "nteract": {
          "transient": {
            "deleting": false
          }
        },
        "gather": {
          "logged": 1633360916228
        },
        "colab": {
          "base_uri": "https://localhost:8080/",
          "height": 513
        },
        "id": "-FfSizTIlHo0",
        "outputId": "a8b665be-c7d5-405d-84f2-ec9683f6a19a"
      },
      "source": [
        "plt.figure(figsize=(12,8))\n",
        "plt.plot(history.history['accuracy'])\n",
        "plt.plot(history.history['val_accuracy'])\n",
        "plt.title('Model accuracy')\n",
        "plt.ylabel('Accuracy')\n",
        "plt.xlabel('Epoch')\n",
        "plt.legend(['Train', 'Test'], loc='upper left')\n",
        "plt.show()"
      ],
      "execution_count": 15,
      "outputs": [
        {
          "output_type": "display_data",
          "data": {
            "image/png": "[encoded data removed]",
            "text/plain": [
              "<Figure size 864x576 with 1 Axes>"
            ]
          },
          "metadata": {
            "needs_background": "light"
          }
        }
      ]
    },
    {
      "cell_type": "code",
      "metadata": {
        "jupyter": {
          "source_hidden": false,
          "outputs_hidden": false
        },
        "nteract": {
          "transient": {
            "deleting": false
          }
        },
        "gather": {
          "logged": 1633425294281
        },
        "id": "veUmF7P7lHo0"
      },
      "source": [
        "new_names = [\"aadhya\", \"jenny\", \"alex\",\"sujith\"]\n",
        "X_pred = prepare_X([rmv_acc(e) for e in new_names])"
      ],
      "execution_count": 20,
      "outputs": []
    },
    {
      "cell_type": "code",
      "metadata": {
        "jupyter": {
          "source_hidden": false,
          "outputs_hidden": false
        },
        "nteract": {
          "transient": {
            "deleting": false
          }
        },
        "gather": {
          "logged": 1633425295081
        },
        "colab": {
          "base_uri": "https://localhost:8080/"
        },
        "id": "431N6c8FlHo-",
        "outputId": "d4ec57ba-7467-4061-f873-84123e51c3a5"
      },
      "source": [
        "prediction = model.predict(X_pred)\n",
        "prediction"
      ],
      "execution_count": 21,
      "outputs": [
        {
          "output_type": "execute_result",
          "data": {
            "text/plain": [
              "array([[0.02658985, 0.9734101 ],\n",
              "       [0.11986341, 0.88013655],\n",
              "       [0.7397752 , 0.26022482],\n",
              "       [0.99566513, 0.00433493]], dtype=float32)"
            ]
          },
          "metadata": {},
          "execution_count": 21
        }
      ]
    },
    {
      "cell_type": "code",
      "metadata": {
        "jupyter": {
          "source_hidden": false,
          "outputs_hidden": false
        },
        "nteract": {
          "transient": {
            "deleting": false
          }
        },
        "gather": {
          "logged": 1633425296302
        },
        "id": "1g8gHwZqlHo_"
      },
      "source": [
        "def pred(new_names, prediction):\n",
        "    dict_answer={}\n",
        "    return_results = []\n",
        "    k = 0\n",
        "    for i in prediction:\n",
        "        if max(i) < 0.65:\n",
        "            return_results.append([new_names[k], \"N\"])\n",
        "        else:\n",
        "            return_results.append([new_names[k], np.argmax(i)])\n",
        "        k += 1\n",
        "    return return_results"
      ],
      "execution_count": 22,
      "outputs": []
    },
    {
      "cell_type": "markdown",
      "metadata": {
        "id": "ShPQ-8c098Tk"
      },
      "source": [
        "Here, '0' means male name and '1' means female name."
      ]
    },
    {
      "cell_type": "code",
      "metadata": {
        "jupyter": {
          "source_hidden": false,
          "outputs_hidden": false
        },
        "nteract": {
          "transient": {
            "deleting": false
          }
        },
        "gather": {
          "logged": 1633425297463
        },
        "colab": {
          "base_uri": "https://localhost:8080/"
        },
        "id": "lWB8xaMWlHo_",
        "outputId": "19adc52e-0d71-4beb-a52e-b2ea24cb375d"
      },
      "source": [
        "\n",
        "pred(new_names, prediction)"
      ],
      "execution_count": 23,
      "outputs": [
        {
          "output_type": "execute_result",
          "data": {
            "text/plain": [
              "[['aadhya', 1], ['jenny', 1], ['alex', 0], ['sujith', 0]]"
            ]
          },
          "metadata": {},
          "execution_count": 23
        }
      ]
    },
    {
      "cell_type": "markdown",
      "metadata": {
        "id": "7lJxzDrK-ItQ"
      },
      "source": [
        "Therefore, the model is predicting gender most accurately."
      ]
    }
  ]
}